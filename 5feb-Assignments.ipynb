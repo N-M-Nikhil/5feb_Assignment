{
 "cells": [
  {
   "cell_type": "code",
   "execution_count": 1,
   "id": "acd84f50-24a4-4321-a2d1-5907cac05219",
   "metadata": {},
   "outputs": [
    {
     "name": "stdout",
     "output_type": "stream",
     "text": [
      "<__main__.pwskills object at 0x7fe7ec4e2fb0>\n"
     ]
    }
   ],
   "source": [
    "# Q.1.Answer\n",
    "# A Class in object oriented programming is a blueprint or prototype that defines the variables and  An object is referred to as a data field that has unique attributes and behavior.\n",
    "\n",
    "# Exanmple:\n",
    "class pwskills:\n",
    "    def welcome_msg(self):\n",
    "        print('welcome to pwskills')\n",
    "        \n",
    "nikhil = pwskills()\n",
    "print(nikhil)\n"
   ]
  },
  {
   "cell_type": "code",
   "execution_count": 2,
   "id": "2b55f261-ecd4-40d6-991c-0d95e2c2efac",
   "metadata": {},
   "outputs": [],
   "source": [
    "# Q.2.Answer\n",
    "\n",
    "# The four pillars of OOP's are as follows:\n",
    "\n",
    "# 1.Inheritance\n",
    "# 2.Encapsulation\n",
    "# 3.Polymorphism\n",
    "# 4.Abstraction"
   ]
  },
  {
   "cell_type": "code",
   "execution_count": 5,
   "id": "687f62a0-50f6-4c3f-bf16-e7acbb7eb16e",
   "metadata": {},
   "outputs": [
    {
     "data": {
      "text/plain": [
       "18"
      ]
     },
     "execution_count": 5,
     "metadata": {},
     "output_type": "execute_result"
    }
   ],
   "source": [
    "# Q.3.Answer\n",
    "# The __init__ method is used for,the class initialize the object’s attributes and serves no other purpose.\n",
    "nik = details(18)\n",
    "class details:\n",
    "    def __init__(nik,age):\n",
    "        nik.age1 = age\n",
    "    \n",
    "    def show_details(nik):\n",
    "        return nik.age1\n",
    "                     \n",
    "nik.show_details()"
   ]
  },
  {
   "cell_type": "code",
   "execution_count": null,
   "id": "95dcc9b6-327b-44ee-8de1-faed93a010b2",
   "metadata": {},
   "outputs": [],
   "source": [
    "# Q.4.Answer\n",
    "# self is used to access other attributes or methods of the object from inside the method."
   ]
  },
  {
   "cell_type": "code",
   "execution_count": null,
   "id": "c1cb3a3c-4eaa-4e77-bb75-ba27893dce26",
   "metadata": {},
   "outputs": [],
   "source": [
    "# Q.5.Answer\n",
    "# Inheritance is the capability of one class to derive or inherit the properties from another class.\n",
    "\n",
    "# Example:\n",
    "\n",
    "1. Single Inheritance in Python\n",
    "class Person:\n",
    "    def __init__(self, name, age):\n",
    "        self.name = name\n",
    "        self.age = age\n",
    "class Professor(Person):\n",
    "    def isProfessor(self):\n",
    "        return f\"{self.name} is a Professor\"\n",
    "sir = Professor(\"John\", 30)\n",
    "print(sir.isProfessor())\n",
    "2. Multiple Inheritance in Python\n",
    "class SuperClass1:\n",
    "    num1 = 3\n",
    "class SuperClass2:\n",
    "    num2 = 5\n",
    "class SubClass( SuperClass1, SuperClass2):\n",
    "    def addition(self):\n",
    "        return self.num1 + self.num2\n",
    "obj = SubClass()\n",
    "print(obj.addition())\n",
    "3. Multilevel Inheritance in Python\n",
    "class Parent:\n",
    "    str1 = \"Python\"\n",
    "class Child(Parent):\n",
    "    str2 = \"Geeks\"\n",
    "class GrandChild(Child):\n",
    "    def get_str(self):\n",
    "        print(self.str1 + self.str2)\n",
    "person = GrandChild()\n",
    "person.get_str()\n",
    "4. Hierarchical Inheritance in Python\n",
    "class SuperClass:\n",
    "    x = 3\n",
    "class SubClass1(SuperClass):\n",
    "    pass\n",
    "class SubClass2(SuperClass):\n",
    "    pass\n",
    "class SubClass3(SuperClass):\n",
    "    pass\n",
    "a = SubClass1()\n",
    "b = SubClass2()\n",
    "c = SubClass3()\n",
    "print(a.x, b.x, c.x)"
   ]
  }
 ],
 "metadata": {
  "kernelspec": {
   "display_name": "Python 3 (ipykernel)",
   "language": "python",
   "name": "python3"
  },
  "language_info": {
   "codemirror_mode": {
    "name": "ipython",
    "version": 3
   },
   "file_extension": ".py",
   "mimetype": "text/x-python",
   "name": "python",
   "nbconvert_exporter": "python",
   "pygments_lexer": "ipython3",
   "version": "3.10.8"
  }
 },
 "nbformat": 4,
 "nbformat_minor": 5
}
